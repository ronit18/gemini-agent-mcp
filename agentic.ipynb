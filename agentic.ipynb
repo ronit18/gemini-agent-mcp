{
  "cells": [
    {
      "cell_type": "code",
      "execution_count": 72,
      "metadata": {
        "id": "B1ZJFSXB-MSK",
        "colab": {
          "base_uri": "https://localhost:8080/"
        },
        "outputId": "0bea00fe-f141-47b2-d398-884fa86b86cc"
      },
      "outputs": [
        {
          "output_type": "stream",
          "name": "stdout",
          "text": [
            "Requirement already satisfied: google-adk in /usr/local/lib/python3.12/dist-packages (1.13.0)\n",
            "Requirement already satisfied: PyYAML<7.0.0,>=6.0.2 in /usr/local/lib/python3.12/dist-packages (from google-adk) (6.0.2)\n",
            "Requirement already satisfied: absolufy-imports<1.0.0,>=0.3.1 in /usr/local/lib/python3.12/dist-packages (from google-adk) (0.3.1)\n",
            "Requirement already satisfied: anyio<5.0.0,>=4.9.0 in /usr/local/lib/python3.12/dist-packages (from google-adk) (4.10.0)\n",
            "Requirement already satisfied: authlib<2.0.0,>=1.5.1 in /usr/local/lib/python3.12/dist-packages (from google-adk) (1.6.3)\n",
            "Requirement already satisfied: click<9.0.0,>=8.1.8 in /usr/local/lib/python3.12/dist-packages (from google-adk) (8.2.1)\n",
            "Requirement already satisfied: fastapi<1.0.0,>=0.115.0 in /usr/local/lib/python3.12/dist-packages (from google-adk) (0.116.1)\n",
            "Requirement already satisfied: google-api-python-client<3.0.0,>=2.157.0 in /usr/local/lib/python3.12/dist-packages (from google-adk) (2.181.0)\n",
            "Requirement already satisfied: google-cloud-bigtable>=2.32.0 in /usr/local/lib/python3.12/dist-packages (from google-adk) (2.32.0)\n",
            "Requirement already satisfied: google-cloud-aiplatform<2.0.0,>=1.95.1 in /usr/local/lib/python3.12/dist-packages (from google-cloud-aiplatform[agent-engines]<2.0.0,>=1.95.1->google-adk) (1.111.0)\n",
            "Requirement already satisfied: google-cloud-secret-manager<3.0.0,>=2.22.0 in /usr/local/lib/python3.12/dist-packages (from google-adk) (2.24.0)\n",
            "Requirement already satisfied: google-cloud-spanner<4.0.0,>=3.56.0 in /usr/local/lib/python3.12/dist-packages (from google-adk) (3.57.0)\n",
            "Requirement already satisfied: google-cloud-speech<3.0.0,>=2.30.0 in /usr/local/lib/python3.12/dist-packages (from google-adk) (2.33.0)\n",
            "Requirement already satisfied: google-cloud-storage<3.0.0,>=2.18.0 in /usr/local/lib/python3.12/dist-packages (from google-adk) (2.19.0)\n",
            "Requirement already satisfied: google-genai<2.0.0,>=1.21.1 in /usr/local/lib/python3.12/dist-packages (from google-adk) (1.34.0)\n",
            "Requirement already satisfied: graphviz<1.0.0,>=0.20.2 in /usr/local/lib/python3.12/dist-packages (from google-adk) (0.21)\n",
            "Requirement already satisfied: mcp<2.0.0,>=1.8.0 in /usr/local/lib/python3.12/dist-packages (from google-adk) (1.13.1)\n",
            "Requirement already satisfied: opentelemetry-api<2.0.0,>=1.31.0 in /usr/local/lib/python3.12/dist-packages (from google-adk) (1.36.0)\n",
            "Requirement already satisfied: opentelemetry-exporter-gcp-trace<2.0.0,>=1.9.0 in /usr/local/lib/python3.12/dist-packages (from google-adk) (1.9.0)\n",
            "Requirement already satisfied: opentelemetry-sdk<2.0.0,>=1.31.0 in /usr/local/lib/python3.12/dist-packages (from google-adk) (1.36.0)\n",
            "Requirement already satisfied: pydantic<3.0.0,>=2.0 in /usr/local/lib/python3.12/dist-packages (from google-adk) (2.11.7)\n",
            "Requirement already satisfied: python-dateutil<3.0.0,>=2.9.0.post0 in /usr/local/lib/python3.12/dist-packages (from google-adk) (2.9.0.post0)\n",
            "Requirement already satisfied: python-dotenv<2.0.0,>=1.0.0 in /usr/local/lib/python3.12/dist-packages (from google-adk) (1.1.1)\n",
            "Requirement already satisfied: requests<3.0.0,>=2.32.4 in /usr/local/lib/python3.12/dist-packages (from google-adk) (2.32.4)\n",
            "Requirement already satisfied: sqlalchemy-spanner>=1.14.0 in /usr/local/lib/python3.12/dist-packages (from google-adk) (1.16.0)\n",
            "Requirement already satisfied: sqlalchemy<3.0.0,>=2.0 in /usr/local/lib/python3.12/dist-packages (from google-adk) (2.0.43)\n",
            "Requirement already satisfied: starlette<1.0.0,>=0.46.2 in /usr/local/lib/python3.12/dist-packages (from google-adk) (0.47.3)\n",
            "Requirement already satisfied: tenacity<9.0.0,>=8.0.0 in /usr/local/lib/python3.12/dist-packages (from google-adk) (8.5.0)\n",
            "Requirement already satisfied: typing-extensions<5,>=4.5 in /usr/local/lib/python3.12/dist-packages (from google-adk) (4.15.0)\n",
            "Requirement already satisfied: tzlocal<6.0,>=5.3 in /usr/local/lib/python3.12/dist-packages (from google-adk) (5.3.1)\n",
            "Requirement already satisfied: uvicorn<1.0.0,>=0.34.0 in /usr/local/lib/python3.12/dist-packages (from google-adk) (0.35.0)\n",
            "Requirement already satisfied: watchdog<7.0.0,>=6.0.0 in /usr/local/lib/python3.12/dist-packages (from google-adk) (6.0.0)\n",
            "Requirement already satisfied: websockets<16.0.0,>=15.0.1 in /usr/local/lib/python3.12/dist-packages (from google-adk) (15.0.1)\n",
            "Requirement already satisfied: idna>=2.8 in /usr/local/lib/python3.12/dist-packages (from anyio<5.0.0,>=4.9.0->google-adk) (3.10)\n",
            "Requirement already satisfied: sniffio>=1.1 in /usr/local/lib/python3.12/dist-packages (from anyio<5.0.0,>=4.9.0->google-adk) (1.3.1)\n",
            "Requirement already satisfied: cryptography in /usr/local/lib/python3.12/dist-packages (from authlib<2.0.0,>=1.5.1->google-adk) (43.0.3)\n",
            "Requirement already satisfied: httplib2<1.0.0,>=0.19.0 in /usr/local/lib/python3.12/dist-packages (from google-api-python-client<3.0.0,>=2.157.0->google-adk) (0.30.0)\n",
            "Requirement already satisfied: google-auth!=2.24.0,!=2.25.0,<3.0.0,>=1.32.0 in /usr/local/lib/python3.12/dist-packages (from google-api-python-client<3.0.0,>=2.157.0->google-adk) (2.38.0)\n",
            "Requirement already satisfied: google-auth-httplib2<1.0.0,>=0.2.0 in /usr/local/lib/python3.12/dist-packages (from google-api-python-client<3.0.0,>=2.157.0->google-adk) (0.2.0)\n",
            "Requirement already satisfied: google-api-core!=2.0.*,!=2.1.*,!=2.2.*,!=2.3.0,<3.0.0,>=1.31.5 in /usr/local/lib/python3.12/dist-packages (from google-api-python-client<3.0.0,>=2.157.0->google-adk) (2.25.1)\n",
            "Requirement already satisfied: uritemplate<5,>=3.0.1 in /usr/local/lib/python3.12/dist-packages (from google-api-python-client<3.0.0,>=2.157.0->google-adk) (4.2.0)\n",
            "Requirement already satisfied: proto-plus<2.0.0,>=1.22.3 in /usr/local/lib/python3.12/dist-packages (from google-cloud-aiplatform<2.0.0,>=1.95.1->google-cloud-aiplatform[agent-engines]<2.0.0,>=1.95.1->google-adk) (1.26.1)\n",
            "Requirement already satisfied: protobuf!=4.21.0,!=4.21.1,!=4.21.2,!=4.21.3,!=4.21.4,!=4.21.5,<7.0.0,>=3.20.2 in /usr/local/lib/python3.12/dist-packages (from google-cloud-aiplatform<2.0.0,>=1.95.1->google-cloud-aiplatform[agent-engines]<2.0.0,>=1.95.1->google-adk) (5.29.5)\n",
            "Requirement already satisfied: packaging>=14.3 in /usr/local/lib/python3.12/dist-packages (from google-cloud-aiplatform<2.0.0,>=1.95.1->google-cloud-aiplatform[agent-engines]<2.0.0,>=1.95.1->google-adk) (25.0)\n",
            "Requirement already satisfied: google-cloud-bigquery!=3.20.0,<4.0.0,>=1.15.0 in /usr/local/lib/python3.12/dist-packages (from google-cloud-aiplatform<2.0.0,>=1.95.1->google-cloud-aiplatform[agent-engines]<2.0.0,>=1.95.1->google-adk) (3.37.0)\n",
            "Requirement already satisfied: google-cloud-resource-manager<3.0.0,>=1.3.3 in /usr/local/lib/python3.12/dist-packages (from google-cloud-aiplatform<2.0.0,>=1.95.1->google-cloud-aiplatform[agent-engines]<2.0.0,>=1.95.1->google-adk) (1.14.2)\n",
            "Requirement already satisfied: shapely<3.0.0 in /usr/local/lib/python3.12/dist-packages (from google-cloud-aiplatform<2.0.0,>=1.95.1->google-cloud-aiplatform[agent-engines]<2.0.0,>=1.95.1->google-adk) (2.1.1)\n",
            "Requirement already satisfied: docstring_parser<1 in /usr/local/lib/python3.12/dist-packages (from google-cloud-aiplatform<2.0.0,>=1.95.1->google-cloud-aiplatform[agent-engines]<2.0.0,>=1.95.1->google-adk) (0.17.0)\n",
            "Requirement already satisfied: cloudpickle<4.0,>=3.0 in /usr/local/lib/python3.12/dist-packages (from google-cloud-aiplatform[agent-engines]<2.0.0,>=1.95.1->google-adk) (3.1.1)\n",
            "Requirement already satisfied: google-cloud-trace<2 in /usr/local/lib/python3.12/dist-packages (from google-cloud-aiplatform[agent-engines]<2.0.0,>=1.95.1->google-adk) (1.16.2)\n",
            "Requirement already satisfied: google-cloud-logging<4 in /usr/local/lib/python3.12/dist-packages (from google-cloud-aiplatform[agent-engines]<2.0.0,>=1.95.1->google-adk) (3.12.1)\n",
            "Requirement already satisfied: google-cloud-core<3.0.0,>=1.4.4 in /usr/local/lib/python3.12/dist-packages (from google-cloud-bigtable>=2.32.0->google-adk) (2.4.3)\n",
            "Requirement already satisfied: grpc-google-iam-v1<1.0.0,>=0.12.4 in /usr/local/lib/python3.12/dist-packages (from google-cloud-bigtable>=2.32.0->google-adk) (0.14.2)\n",
            "Requirement already satisfied: google-crc32c<2.0.0dev,>=1.5.0 in /usr/local/lib/python3.12/dist-packages (from google-cloud-bigtable>=2.32.0->google-adk) (1.7.1)\n",
            "Requirement already satisfied: sqlparse>=0.4.4 in /usr/local/lib/python3.12/dist-packages (from google-cloud-spanner<4.0.0,>=3.56.0->google-adk) (0.5.3)\n",
            "Requirement already satisfied: grpc-interceptor>=0.15.4 in /usr/local/lib/python3.12/dist-packages (from google-cloud-spanner<4.0.0,>=3.56.0->google-adk) (0.15.4)\n",
            "Requirement already satisfied: google-resumable-media>=2.7.2 in /usr/local/lib/python3.12/dist-packages (from google-cloud-storage<3.0.0,>=2.18.0->google-adk) (2.7.2)\n",
            "Requirement already satisfied: httpx<1.0.0,>=0.28.1 in /usr/local/lib/python3.12/dist-packages (from google-genai<2.0.0,>=1.21.1->google-adk) (0.28.1)\n",
            "Requirement already satisfied: httpx-sse>=0.4 in /usr/local/lib/python3.12/dist-packages (from mcp<2.0.0,>=1.8.0->google-adk) (0.4.1)\n",
            "Requirement already satisfied: jsonschema>=4.20.0 in /usr/local/lib/python3.12/dist-packages (from mcp<2.0.0,>=1.8.0->google-adk) (4.25.1)\n",
            "Requirement already satisfied: pydantic-settings>=2.5.2 in /usr/local/lib/python3.12/dist-packages (from mcp<2.0.0,>=1.8.0->google-adk) (2.10.1)\n",
            "Requirement already satisfied: python-multipart>=0.0.9 in /usr/local/lib/python3.12/dist-packages (from mcp<2.0.0,>=1.8.0->google-adk) (0.0.20)\n",
            "Requirement already satisfied: sse-starlette>=1.6.1 in /usr/local/lib/python3.12/dist-packages (from mcp<2.0.0,>=1.8.0->google-adk) (3.0.2)\n",
            "Requirement already satisfied: importlib-metadata<8.8.0,>=6.0 in /usr/local/lib/python3.12/dist-packages (from opentelemetry-api<2.0.0,>=1.31.0->google-adk) (8.7.0)\n",
            "Requirement already satisfied: opentelemetry-resourcedetector-gcp==1.*,>=1.5.0dev0 in /usr/local/lib/python3.12/dist-packages (from opentelemetry-exporter-gcp-trace<2.0.0,>=1.9.0->google-adk) (1.9.0a0)\n",
            "Requirement already satisfied: opentelemetry-semantic-conventions==0.57b0 in /usr/local/lib/python3.12/dist-packages (from opentelemetry-sdk<2.0.0,>=1.31.0->google-adk) (0.57b0)\n",
            "Requirement already satisfied: annotated-types>=0.6.0 in /usr/local/lib/python3.12/dist-packages (from pydantic<3.0.0,>=2.0->google-adk) (0.7.0)\n",
            "Requirement already satisfied: pydantic-core==2.33.2 in /usr/local/lib/python3.12/dist-packages (from pydantic<3.0.0,>=2.0->google-adk) (2.33.2)\n",
            "Requirement already satisfied: typing-inspection>=0.4.0 in /usr/local/lib/python3.12/dist-packages (from pydantic<3.0.0,>=2.0->google-adk) (0.4.1)\n",
            "Requirement already satisfied: six>=1.5 in /usr/local/lib/python3.12/dist-packages (from python-dateutil<3.0.0,>=2.9.0.post0->google-adk) (1.17.0)\n",
            "Requirement already satisfied: charset_normalizer<4,>=2 in /usr/local/lib/python3.12/dist-packages (from requests<3.0.0,>=2.32.4->google-adk) (3.4.3)\n",
            "Requirement already satisfied: urllib3<3,>=1.21.1 in /usr/local/lib/python3.12/dist-packages (from requests<3.0.0,>=2.32.4->google-adk) (2.5.0)\n",
            "Requirement already satisfied: certifi>=2017.4.17 in /usr/local/lib/python3.12/dist-packages (from requests<3.0.0,>=2.32.4->google-adk) (2025.8.3)\n",
            "Requirement already satisfied: greenlet>=1 in /usr/local/lib/python3.12/dist-packages (from sqlalchemy<3.0.0,>=2.0->google-adk) (3.2.4)\n",
            "Requirement already satisfied: alembic in /usr/local/lib/python3.12/dist-packages (from sqlalchemy-spanner>=1.14.0->google-adk) (1.16.5)\n",
            "Requirement already satisfied: h11>=0.8 in /usr/local/lib/python3.12/dist-packages (from uvicorn<1.0.0,>=0.34.0->google-adk) (0.16.0)\n",
            "Requirement already satisfied: googleapis-common-protos<2.0.0,>=1.56.2 in /usr/local/lib/python3.12/dist-packages (from google-api-core!=2.0.*,!=2.1.*,!=2.2.*,!=2.3.0,<3.0.0,>=1.31.5->google-api-python-client<3.0.0,>=2.157.0->google-adk) (1.70.0)\n",
            "Requirement already satisfied: grpcio<2.0.0,>=1.33.2 in /usr/local/lib/python3.12/dist-packages (from google-api-core[grpc]!=2.0.*,!=2.1.*,!=2.2.*,!=2.3.*,!=2.4.*,!=2.5.*,!=2.6.*,!=2.7.*,<3.0.0,>=1.34.1->google-cloud-aiplatform<2.0.0,>=1.95.1->google-cloud-aiplatform[agent-engines]<2.0.0,>=1.95.1->google-adk) (1.74.0)\n",
            "Requirement already satisfied: grpcio-status<2.0.0,>=1.33.2 in /usr/local/lib/python3.12/dist-packages (from google-api-core[grpc]!=2.0.*,!=2.1.*,!=2.2.*,!=2.3.*,!=2.4.*,!=2.5.*,!=2.6.*,!=2.7.*,<3.0.0,>=1.34.1->google-cloud-aiplatform<2.0.0,>=1.95.1->google-cloud-aiplatform[agent-engines]<2.0.0,>=1.95.1->google-adk) (1.71.2)\n",
            "Requirement already satisfied: cachetools<6.0,>=2.0.0 in /usr/local/lib/python3.12/dist-packages (from google-auth!=2.24.0,!=2.25.0,<3.0.0,>=1.32.0->google-api-python-client<3.0.0,>=2.157.0->google-adk) (5.5.2)\n",
            "Requirement already satisfied: pyasn1-modules>=0.2.1 in /usr/local/lib/python3.12/dist-packages (from google-auth!=2.24.0,!=2.25.0,<3.0.0,>=1.32.0->google-api-python-client<3.0.0,>=2.157.0->google-adk) (0.4.2)\n",
            "Requirement already satisfied: rsa<5,>=3.1.4 in /usr/local/lib/python3.12/dist-packages (from google-auth!=2.24.0,!=2.25.0,<3.0.0,>=1.32.0->google-api-python-client<3.0.0,>=2.157.0->google-adk) (4.9.1)\n",
            "Requirement already satisfied: google-cloud-appengine-logging<2.0.0,>=0.1.3 in /usr/local/lib/python3.12/dist-packages (from google-cloud-logging<4->google-cloud-aiplatform[agent-engines]<2.0.0,>=1.95.1->google-adk) (1.6.2)\n",
            "Requirement already satisfied: google-cloud-audit-log<1.0.0,>=0.3.1 in /usr/local/lib/python3.12/dist-packages (from google-cloud-logging<4->google-cloud-aiplatform[agent-engines]<2.0.0,>=1.95.1->google-adk) (0.3.2)\n",
            "Requirement already satisfied: pyparsing<4,>=3.0.4 in /usr/local/lib/python3.12/dist-packages (from httplib2<1.0.0,>=0.19.0->google-api-python-client<3.0.0,>=2.157.0->google-adk) (3.2.3)\n",
            "Requirement already satisfied: httpcore==1.* in /usr/local/lib/python3.12/dist-packages (from httpx<1.0.0,>=0.28.1->google-genai<2.0.0,>=1.21.1->google-adk) (1.0.9)\n",
            "Requirement already satisfied: zipp>=3.20 in /usr/local/lib/python3.12/dist-packages (from importlib-metadata<8.8.0,>=6.0->opentelemetry-api<2.0.0,>=1.31.0->google-adk) (3.23.0)\n",
            "Requirement already satisfied: attrs>=22.2.0 in /usr/local/lib/python3.12/dist-packages (from jsonschema>=4.20.0->mcp<2.0.0,>=1.8.0->google-adk) (25.3.0)\n",
            "Requirement already satisfied: jsonschema-specifications>=2023.03.6 in /usr/local/lib/python3.12/dist-packages (from jsonschema>=4.20.0->mcp<2.0.0,>=1.8.0->google-adk) (2025.9.1)\n",
            "Requirement already satisfied: referencing>=0.28.4 in /usr/local/lib/python3.12/dist-packages (from jsonschema>=4.20.0->mcp<2.0.0,>=1.8.0->google-adk) (0.36.2)\n",
            "Requirement already satisfied: rpds-py>=0.7.1 in /usr/local/lib/python3.12/dist-packages (from jsonschema>=4.20.0->mcp<2.0.0,>=1.8.0->google-adk) (0.27.1)\n",
            "Requirement already satisfied: numpy>=1.21 in /usr/local/lib/python3.12/dist-packages (from shapely<3.0.0->google-cloud-aiplatform<2.0.0,>=1.95.1->google-cloud-aiplatform[agent-engines]<2.0.0,>=1.95.1->google-adk) (2.0.2)\n",
            "Requirement already satisfied: Mako in /usr/local/lib/python3.12/dist-packages (from alembic->sqlalchemy-spanner>=1.14.0->google-adk) (1.3.10)\n",
            "Requirement already satisfied: cffi>=1.12 in /usr/local/lib/python3.12/dist-packages (from cryptography->authlib<2.0.0,>=1.5.1->google-adk) (2.0.0)\n",
            "Requirement already satisfied: pycparser in /usr/local/lib/python3.12/dist-packages (from cffi>=1.12->cryptography->authlib<2.0.0,>=1.5.1->google-adk) (2.23)\n",
            "Requirement already satisfied: pyasn1<0.7.0,>=0.6.1 in /usr/local/lib/python3.12/dist-packages (from pyasn1-modules>=0.2.1->google-auth!=2.24.0,!=2.25.0,<3.0.0,>=1.32.0->google-api-python-client<3.0.0,>=2.157.0->google-adk) (0.6.1)\n",
            "Requirement already satisfied: MarkupSafe>=0.9.2 in /usr/local/lib/python3.12/dist-packages (from Mako->alembic->sqlalchemy-spanner>=1.14.0->google-adk) (3.0.2)\n"
          ]
        }
      ],
      "source": [
        "!pip install google-adk"
      ]
    },
    {
      "cell_type": "code",
      "execution_count": 73,
      "metadata": {
        "id": "kw39xQs5Ynmu"
      },
      "outputs": [],
      "source": [
        "import asyncio\n",
        "import nest_asyncio\n",
        "nest_asyncio.apply()"
      ]
    },
    {
      "cell_type": "code",
      "execution_count": 74,
      "metadata": {
        "id": "m7aiDiiO24t_"
      },
      "outputs": [],
      "source": [
        "import os\n",
        "from google.colab import userdata\n",
        "os.environ['GOOGLE_API_KEY'] = userdata.get('GOOGLE_API_KEY')"
      ]
    },
    {
      "cell_type": "code",
      "execution_count": 75,
      "metadata": {
        "id": "idVlV9sYYKx8"
      },
      "outputs": [],
      "source": [
        "from google.genai import types\n",
        "from google.adk.tools import google_search\n",
        "from google.adk.agents.llm_agent import LlmAgent\n",
        "from google.adk.sessions import InMemorySessionService\n",
        "from google.adk.runners import Runner"
      ]
    },
    {
      "cell_type": "code",
      "execution_count": 76,
      "metadata": {
        "id": "KBXMDvgTx6Iq"
      },
      "outputs": [],
      "source": [
        "query = \"who won the f1 monza gp 2025?\""
      ]
    },
    {
      "cell_type": "code",
      "execution_count": 77,
      "metadata": {
        "id": "J88q7pnL3K6H"
      },
      "outputs": [],
      "source": [
        "search_agent = LlmAgent(\n",
        "    model=\"gemini-2.0-flash\",\n",
        "    name=\"search_agent\",\n",
        "    description=\"Answers user questions about the search queries\",\n",
        "    instruction=\"\"\"You are an agent that provides the information to the user query by browsing the internet\"\"\",\n",
        "    tools=[google_search],\n",
        ")"
      ]
    },
    {
      "cell_type": "code",
      "execution_count": 78,
      "metadata": {
        "id": "rD9utSyJ_WaM"
      },
      "outputs": [],
      "source": [
        "session_service = InMemorySessionService()"
      ]
    },
    {
      "cell_type": "code",
      "execution_count": 79,
      "metadata": {
        "id": "zwDJV-za-6Mr",
        "colab": {
          "base_uri": "https://localhost:8080/"
        },
        "outputId": "fe837f9e-609a-41c8-9e51-06132b3af25a"
      },
      "outputs": [
        {
          "output_type": "stream",
          "name": "stderr",
          "text": [
            "/tmp/ipython-input-1587768923.py:1: RuntimeWarning: coroutine 'InMemorySessionService.create_session' was never awaited\n",
            "  session = session_service.create_session(\n",
            "RuntimeWarning: Enable tracemalloc to get the object allocation traceback\n"
          ]
        }
      ],
      "source": [
        "session = session_service.create_session(\n",
        "      state={}, app_name='search_app', user_id='user_fs'\n",
        "  )"
      ]
    },
    {
      "cell_type": "code",
      "execution_count": 80,
      "metadata": {
        "id": "iYAQBk8O_kjx"
      },
      "outputs": [],
      "source": [
        "content = types.Content(role='user', parts=[types.Part(text=query)])"
      ]
    },
    {
      "cell_type": "code",
      "execution_count": 81,
      "metadata": {
        "id": "H06tpDZ0AKYf"
      },
      "outputs": [],
      "source": [
        "runner = Runner(\n",
        "      app_name='search_app',\n",
        "      agent=search_agent,\n",
        "      session_service=session_service,\n",
        "  )"
      ]
    },
    {
      "cell_type": "code",
      "execution_count": 82,
      "metadata": {
        "id": "nX7iO0O5ATgC"
      },
      "outputs": [],
      "source": [
        "async def main():\n",
        "    session = await session_service.create_session(\n",
        "        state={}, app_name=\"search_app\", user_id=\"user_fs\"\n",
        "    )\n",
        "\n",
        "    content = types.Content(role=\"user\", parts=[types.Part(text=query)])\n",
        "\n",
        "    runner = Runner(\n",
        "        app_name=\"search_app\",\n",
        "        agent=search_agent,\n",
        "        session_service=session_service,\n",
        "    )\n",
        "\n",
        "    response = runner.run_async(\n",
        "        session_id=session.id, user_id=session.user_id, new_message=content\n",
        "    )\n",
        "\n",
        "    async for item in response:\n",
        "        print(item.content.parts[0].text)\n"
      ]
    },
    {
      "cell_type": "code",
      "source": [
        "asyncio.run(main())"
      ],
      "metadata": {
        "colab": {
          "base_uri": "https://localhost:8080/"
        },
        "id": "5cdgZ9i0f1nU",
        "outputId": "e1fa4d58-8574-4fa7-f413-a45d733f4fee"
      },
      "execution_count": 83,
      "outputs": [
        {
          "output_type": "stream",
          "name": "stdout",
          "text": [
            "Max Verstappen of Red Bull won the F1 Monza GP in 2025. The race took place on September 7, 2025. Lando Norris finished second and Oscar Piastri finished third, both driving for McLaren.\n",
            "\n"
          ]
        }
      ]
    }
  ],
  "metadata": {
    "colab": {
      "provenance": []
    },
    "kernelspec": {
      "display_name": "Python 3",
      "name": "python3"
    },
    "language_info": {
      "name": "python"
    }
  },
  "nbformat": 4,
  "nbformat_minor": 0
}